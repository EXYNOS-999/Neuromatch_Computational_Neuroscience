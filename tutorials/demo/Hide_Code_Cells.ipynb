{
 "cells": [
  {
   "cell_type": "markdown",
   "metadata": {},
   "source": [
    "# Hide code cells\n",
    "\n",
    "Google Colab has a special syntax for making it possible to \"hide\" cells by using a comment with `@title` as the first line.\n",
    "\n",
    "This is useful for running imports/setup or defining utility functions where the students don't need to see the code.\n",
    "\n",
    "Note that these cells will remain visible in other interfaces (e.g. Binder, JupyterLab)."
   ]
  },
  {
   "cell_type": "code",
   "execution_count": 1,
   "metadata": {},
   "outputs": [],
   "source": [
    "# @title Imports and setup\n",
    "import numpy as np\n",
    "import matplotlib.pyplot as plt\n",
    "\n",
    "plt.style.use('ggplot')\n",
    "\n",
    "%matplotlib inline\n",
    "%config InlineBackend.figure_format = 'retina'"
   ]
  }
 ],
 "metadata": {
  "kernelspec": {
   "display_name": "nma (py37)",
   "language": "python",
   "name": "nma"
  },
  "language_info": {
   "codemirror_mode": {
    "name": "ipython",
    "version": 3
   },
   "file_extension": ".py",
   "mimetype": "text/x-python",
   "name": "python",
   "nbconvert_exporter": "python",
   "pygments_lexer": "ipython3",
   "version": "3.7.6"
  }
 },
 "nbformat": 4,
 "nbformat_minor": 4
}
